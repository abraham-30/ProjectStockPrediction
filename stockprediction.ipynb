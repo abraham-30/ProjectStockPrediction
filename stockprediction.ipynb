{
  "nbformat": 4,
  "nbformat_minor": 0,
  "metadata": {
    "colab": {
      "provenance": [],
      "authorship_tag": "ABX9TyOl0UkdRzWxMOX1HOi89fvl",
      "include_colab_link": true
    },
    "kernelspec": {
      "name": "python3",
      "display_name": "Python 3"
    },
    "language_info": {
      "name": "python"
    }
  },
  "cells": [
    {
      "cell_type": "markdown",
      "metadata": {
        "id": "view-in-github",
        "colab_type": "text"
      },
      "source": [
        "<a href=\"https://colab.research.google.com/github/abraham-30/ProjectStockPrediction/blob/main/stockprediction.ipynb\" target=\"_parent\"><img src=\"https://colab.research.google.com/assets/colab-badge.svg\" alt=\"Open In Colab\"/></a>"
      ]
    },
    {
      "cell_type": "code",
      "execution_count": null,
      "metadata": {
        "id": "Bp47yJfOG6fq"
      },
      "outputs": [],
      "source": [
        "import pandas as pd\n",
        "import numpy as np\n",
        "import seaborn as sb\n",
        "import matplotlib.pyplot as plt"
      ]
    },
    {
      "cell_type": "markdown",
      "source": [
        "#DATA PROCESSING"
      ],
      "metadata": {
        "id": "QoI7pgpUI0Tu"
      }
    },
    {
      "cell_type": "code",
      "source": [
        "data_stock = pd.read_csv('BBCA.JK.csv')"
      ],
      "metadata": {
        "id": "WQJuKRHvI3YJ"
      },
      "execution_count": null,
      "outputs": []
    },
    {
      "cell_type": "markdown",
      "source": [
        "##DATA VISUALIZATION"
      ],
      "metadata": {
        "id": "x3UropSuI6YM"
      }
    },
    {
      "cell_type": "code",
      "source": [],
      "metadata": {
        "id": "k0GSHbZvI9AO"
      },
      "execution_count": null,
      "outputs": []
    }
  ]
}